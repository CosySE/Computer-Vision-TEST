{
  "nbformat": 4,
  "nbformat_minor": 0,
  "metadata": {
    "colab": {
      "name": "dayana_tarea2.ipynb",
      "provenance": [],
      "collapsed_sections": [],
      "authorship_tag": "ABX9TyODXGU4qMyj6vDEFirMjwtX",
      "include_colab_link": true
    },
    "kernelspec": {
      "name": "python3",
      "display_name": "Python 3"
    },
    "language_info": {
      "name": "python"
    }
  },
  "cells": [
    {
      "cell_type": "markdown",
      "metadata": {
        "id": "view-in-github",
        "colab_type": "text"
      },
      "source": [
        "<a href=\"https://colab.research.google.com/github/CosySE/Computer-Vision-TEST/blob/main/dayana_tarea2.ipynb\" target=\"_parent\"><img src=\"https://colab.research.google.com/assets/colab-badge.svg\" alt=\"Open In Colab\"/></a>"
      ]
    },
    {
      "cell_type": "code",
      "execution_count": 2,
      "metadata": {
        "id": "sucN59zIHaGz"
      },
      "outputs": [],
      "source": [
        "import os\n",
        "!git clone https://github.com/CosySE/Computer-Vision-TEST.git\n",
        "from IPython.display import clear_output\n",
        "clear_output()"
      ]
    },
    {
      "cell_type": "code",
      "source": [
        "import random\n",
        "import cv2\n",
        "import numpy as np\n",
        "from google.colab.patches import cv2_imshow"
      ],
      "metadata": {
        "id": "YUV2N6HHKUp8"
      },
      "execution_count": 3,
      "outputs": []
    },
    {
      "cell_type": "code",
      "source": [
        "#A) Rotar la imagen 90 grados en sentido de las manecillas del reloj\n",
        "img =cv2.imread('/content/Computer-Vision-TEST/C2.png')\n",
        "\n",
        "Matriz = cv2.getRotationMatrix2D((img.shape[0]/2,img.shape[1]/2),-90,1)\n",
        "rotacion = cv2.warpAffine(img,Matriz,(img.shape[0],img.shape[1]))\n",
        "\n",
        "cv2_imshow(img)\n",
        "cv2_imshow(rotacion)\n",
        "# cv2.waitKey(0)\n",
        "# cv2.destroyAllWindows()"
      ],
      "metadata": {
        "id": "toWFrTEuKeSb"
      },
      "execution_count": null,
      "outputs": []
    },
    {
      "cell_type": "code",
      "source": [
        "#B) Aplicar un desenforque con un kernel a 3x3 y otro a 9x9\n",
        "\n",
        "img =cv2.imread('/content/Computer-Vision-TEST/instagram-png.png')\n",
        "\n",
        "#3x3\n",
        "kernel = np.ones([3,3],np.float32)/25\n",
        "res_kernel =cv2.filter2D(img,-1,kernel)\n",
        "\n",
        "#9x9\n",
        "kernel_2 = np.ones([9,9],np.float32)/25\n",
        "res_kernel_2 =cv2.filter2D(img,-1,kernel_2)\n",
        "\n",
        "cv2_imshow(res_kernel)\n",
        "cv2_imshow(res_kernel_2)\n",
        "# cv2.waitKey(0)\n",
        "# cv2.destroyAllWindows()\n"
      ],
      "metadata": {
        "id": "gU15sZltMWqf"
      },
      "execution_count": null,
      "outputs": []
    },
    {
      "cell_type": "code",
      "source": [
        "#C Agregar ruido sal y pimienta a la imagen\n",
        "def ruido_sal_pimienta(img): \n",
        "    ancho, alto = img.shape[:2] \n",
        "\n",
        "    cant_pixeles = random.randint(300, 10000) \n",
        "    for i in range(cant_pixeles): \n",
        "        y = random.randint(0, ancho - 1) \n",
        "        x = random.randint(0, alto - 1) \n",
        "   #pimienta       \n",
        "        img[y][x] = 255\n",
        "          \n",
        "    cant_pixeles = random.randint(300 , 10000) \n",
        "    for i in range(cant_pixeles): \n",
        "        y =random.randint(0, ancho - 1) \n",
        "        x =random.randint(0, alto - 1) \n",
        "    #sal\n",
        "        img[y][x] = 0\n",
        "          \n",
        "    return img \n",
        "  \n",
        "img = cv2.imread('/content/Computer-Vision-TEST/instagram-png.png') \n",
        "res = ruido_sal_pimienta(img)\n",
        "\n",
        "cv2_imshow(res)\n",
        "# cv2.waitKey(0)\n",
        "# cv2.destroyAllWindows()"
      ],
      "metadata": {
        "id": "iKoHRN0ASBcl"
      },
      "execution_count": null,
      "outputs": []
    },
    {
      "cell_type": "code",
      "source": [
        "#D Seleccionar y realizar una operacion solo para quitar el ruido de sal\n",
        "reduccion = cv2.morphologyEx(res, cv2.MORPH_OPEN, kernel)\n",
        "\n",
        "cv2_imshow(reduccion)"
      ],
      "metadata": {
        "id": "7yznP8j3SIDy"
      },
      "execution_count": null,
      "outputs": []
    }
  ]
}